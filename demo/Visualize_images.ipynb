{
 "cells": [
  {
   "cell_type": "code",
   "execution_count": null,
   "metadata": {},
   "outputs": [],
   "source": [
    "import os, sys\n",
    "import numpy as np\n",
    "import matplotlib.pyplot as plt\n",
    "import pandas as pd\n",
    "import scipy.stats as stats\n",
    "from astropy.visualization import MinMaxInterval, AsinhStretch, ImageNormalize\n",
    "from baobab import bnn_priors\n",
    "from baobab.configs import *\n",
    "%matplotlib inline\n",
    "%load_ext autoreload\n",
    "%autoreload 2"
   ]
  },
  {
   "cell_type": "markdown",
   "metadata": {},
   "source": [
    "# Visualizing the images\n",
    "\n",
    "__Author:__ Ji Won Park (@jiwoncpark)\n",
    "    \n",
    "__Created:__ 8/30/19\n",
    "    \n",
    "__Last run:__ 11/08/19\n",
    "\n",
    "In this notebook, we'll visualize the images generated with `DiagonalBNNPrior` via the configuration in `tdlmc_diagonal_config.py`.\n",
    "\n",
    "__Before running this notebook:__\n",
    "Generate some data. At the root of the `baobab` repo, run:\n",
    "```\n",
    "generate baobab/configs/tdlmc_diagonal_config.py --n_data 1000\n",
    "```\n",
    "This generates 1000 samples using `DiagonalBNNPrior` at the location this notebook expects."
   ]
  },
  {
   "cell_type": "code",
   "execution_count": null,
   "metadata": {},
   "outputs": [],
   "source": [
    "cfg_path = tdlmc_diagonal_config.__file__\n",
    "#cfg_path = gamma_diagonal_config.__file__\n",
    "#cfg_path = os.path.join('..', '..', 'time_delay_lens_modeling_challenge', 'data', 'baobab_configs', 'train_tdlmc_diagonal_config.py')\n",
    "cfg = BaobabConfig.from_file(cfg_path)\n",
    "#out_data_dir = os.path.join('..', '..', 'time_delay_lens_modeling_challenge', cfg.out_dir)\n",
    "out_data_dir = os.path.join('..', cfg.out_dir)\n",
    "meta = pd.read_csv(os.path.join(out_data_dir, 'metadata.csv'), index_col=None)\n",
    "bnn_prior = getattr(bnn_priors, cfg.bnn_prior_class)(cfg.bnn_omega, cfg.components)"
   ]
  },
  {
   "cell_type": "code",
   "execution_count": null,
   "metadata": {},
   "outputs": [],
   "source": [
    "img_files = [fname for fname in os.listdir(out_data_dir) if fname.endswith('.npy')]"
   ]
  },
  {
   "cell_type": "code",
   "execution_count": null,
   "metadata": {},
   "outputs": [],
   "source": [
    "# TODO: description, asinh scale..."
   ]
  },
  {
   "cell_type": "markdown",
   "metadata": {},
   "source": [
    "### View one image at a time in asinh scale with metadata"
   ]
  },
  {
   "cell_type": "code",
   "execution_count": null,
   "metadata": {},
   "outputs": [],
   "source": [
    "img_idx = 1\n",
    "\n",
    "img_path = os.path.join(out_data_dir, img_files[img_idx])\n",
    "img = np.load(img_path)\n",
    "\n",
    "norm = ImageNormalize(img, interval=MinMaxInterval(), stretch=AsinhStretch())\n",
    "\n",
    "fig = plt.figure()\n",
    "ax = fig.add_subplot(1, 1, 1)\n",
    "im = ax.imshow(img, origin='lower', norm=norm)\n",
    "fig.colorbar(im)\n",
    "\n",
    "print(meta.iloc[img_idx])"
   ]
  },
  {
   "cell_type": "markdown",
   "metadata": {},
   "source": [
    "### View many images at a time in linear scale"
   ]
  },
  {
   "cell_type": "code",
   "execution_count": null,
   "metadata": {},
   "outputs": [],
   "source": [
    "n_img = 100"
   ]
  },
  {
   "cell_type": "code",
   "execution_count": null,
   "metadata": {},
   "outputs": [],
   "source": [
    "import glob\n",
    "import matplotlib.image as mpimg\n",
    "\n",
    "imgs = []\n",
    "for img_file in img_files[:n_img]:\n",
    "    img_path = os.path.join(out_data_dir, img_file)\n",
    "    imgs.append(np.load(img_path))\n",
    "\n",
    "plt.figure(figsize=(20, 80))\n",
    "n_columns = 5\n",
    "for i, img in enumerate(imgs):\n",
    "    plt.subplot(len(imgs)/n_columns+1, n_columns, i+1)\n",
    "    plt.imshow(img, origin='lower')"
   ]
  },
  {
   "cell_type": "markdown",
   "metadata": {},
   "source": [
    "### View many images at a time in asinh scale"
   ]
  },
  {
   "cell_type": "code",
   "execution_count": null,
   "metadata": {},
   "outputs": [],
   "source": [
    "import glob\n",
    "import matplotlib.image as mpimg\n",
    "\n",
    "imgs = []\n",
    "for img_file in img_files[:n_img]:\n",
    "    img_path = os.path.join(out_data_dir, img_file)\n",
    "    imgs.append(np.load(img_path))\n",
    "\n",
    "plt.figure(figsize=(20, 80))\n",
    "n_columns = 5\n",
    "for i, img in enumerate(imgs):\n",
    "    plt.subplot(len(imgs)/n_columns+1, n_columns, i+1)\n",
    "    plt.imshow(img, origin='lower', norm=norm)"
   ]
  },
  {
   "cell_type": "code",
   "execution_count": null,
   "metadata": {},
   "outputs": [],
   "source": []
  }
 ],
 "metadata": {
  "kernelspec": {
   "display_name": "Python (baobab)",
   "language": "python",
   "name": "baobab"
  },
  "language_info": {
   "codemirror_mode": {
    "name": "ipython",
    "version": 3
   },
   "file_extension": ".py",
   "mimetype": "text/x-python",
   "name": "python",
   "nbconvert_exporter": "python",
   "pygments_lexer": "ipython3",
   "version": "3.6.9"
  }
 },
 "nbformat": 4,
 "nbformat_minor": 2
}
